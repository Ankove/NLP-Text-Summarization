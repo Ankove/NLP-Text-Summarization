{
 "cells": [
  {
   "cell_type": "code",
   "execution_count": 50,
   "id": "420eac22",
   "metadata": {},
   "outputs": [],
   "source": [
    "import os\n",
    "import json\n",
    "import pandas as pd\n",
    "import rouge\n",
    "from transformers import T5Tokenizer, T5Model, T5ForConditionalGeneration\n",
    "\n",
    "rouge_scoring = rouge.Rouge()"
   ]
  },
  {
   "cell_type": "code",
   "execution_count": 3,
   "id": "e61a8449",
   "metadata": {},
   "outputs": [
    {
     "name": "stderr",
     "output_type": "stream",
     "text": [
      "C:\\Users\\Asus ROG\\AppData\\Local\\Temp\\ipykernel_21920\\1865291137.py:3: FutureWarning: load_metric is deprecated and will be removed in the next major version of datasets. Use 'evaluate.load' instead, from the new library 🤗 Evaluate: https://huggingface.co/docs/evaluate\n",
      "  rouge = load_metric(\"rouge\")\n"
     ]
    },
    {
     "data": {
      "text/plain": [
       "{'rouge1': AggregateScore(low=Score(precision=0.8571428571428571, recall=1.0, fmeasure=0.923076923076923), mid=Score(precision=0.8571428571428571, recall=1.0, fmeasure=0.923076923076923), high=Score(precision=0.8571428571428571, recall=1.0, fmeasure=0.923076923076923)),\n",
       " 'rouge2': AggregateScore(low=Score(precision=0.6666666666666666, recall=0.8, fmeasure=0.7272727272727272), mid=Score(precision=0.6666666666666666, recall=0.8, fmeasure=0.7272727272727272), high=Score(precision=0.6666666666666666, recall=0.8, fmeasure=0.7272727272727272)),\n",
       " 'rougeL': AggregateScore(low=Score(precision=0.8571428571428571, recall=1.0, fmeasure=0.923076923076923), mid=Score(precision=0.8571428571428571, recall=1.0, fmeasure=0.923076923076923), high=Score(precision=0.8571428571428571, recall=1.0, fmeasure=0.923076923076923)),\n",
       " 'rougeLsum': AggregateScore(low=Score(precision=0.8571428571428571, recall=1.0, fmeasure=0.923076923076923), mid=Score(precision=0.8571428571428571, recall=1.0, fmeasure=0.923076923076923), high=Score(precision=0.8571428571428571, recall=1.0, fmeasure=0.923076923076923))}"
      ]
     },
     "execution_count": 3,
     "metadata": {},
     "output_type": "execute_result"
    }
   ],
   "source": [
    "from datasets import load_metric\n",
    "\n",
    "rouge = load_metric(\"rouge\")\n",
    "predictions = [\"I really loved reading the Hunger Games\"]\n",
    "references = [\"I loved reading the Hunger Games\"]\n",
    "rouge.compute(predictions=predictions, references=references)"
   ]
  },
  {
   "cell_type": "code",
   "execution_count": 4,
   "id": "9608de01",
   "metadata": {
    "scrolled": true
   },
   "outputs": [],
   "source": [
    "tokenizer = T5Tokenizer.from_pretrained(\"cahya/t5-base-indonesian-summarization-cased\")\n",
    "model = T5ForConditionalGeneration.from_pretrained(\"cahya/t5-base-indonesian-summarization-cased\")\n"
   ]
  },
  {
   "cell_type": "code",
   "execution_count": 5,
   "id": "b8f686b9",
   "metadata": {},
   "outputs": [],
   "source": [
    "import tarfile"
   ]
  },
  {
   "cell_type": "code",
   "execution_count": 22,
   "id": "2e370053",
   "metadata": {
    "scrolled": true
   },
   "outputs": [
    {
     "name": "stdout",
     "output_type": "stream",
     "text": [
      "['100000.json', '100002.json', '100003.json', '100004.json', '100005.json']\n"
     ]
    }
   ],
   "source": [
    "directory_path = r\"dataset\\liputan6_data\\canonical\\train\"\n",
    "\n",
    "if os.path.exists(directory_path):\n",
    "    files_in_directory = os.listdir(directory_path)\n",
    "    print(files_in_directory[:5])\n",
    "else:\n",
    "    print(\"Directory not found:\", directory_path)"
   ]
  },
  {
   "cell_type": "code",
   "execution_count": 26,
   "id": "afb2a0dd",
   "metadata": {},
   "outputs": [],
   "source": [
    "# Load sample json data\n",
    "data_sample = json.load(open(\n",
    "    r\"dataset\\liputan6_data\\canonical\\train\\100002.json\", \"r\"\n",
    "))\n"
   ]
  },
  {
   "cell_type": "code",
   "execution_count": 27,
   "id": "5891ab60",
   "metadata": {},
   "outputs": [
    {
     "name": "stdout",
     "output_type": "stream",
     "text": [
      "Liputan6 . com , Jakarta : Perdana Menteri Jepang Junichiro Koizumi meminta maaf atas kekejaman tentara Jepang pada masa Perang Dunia II di Asia . Permohonan maaf secara formal itu Koizumi utarakan di depan pemimpin negara-negara Asia dan Afrika dalam Konferensi Tingkat Tinggi Asia-Afrika di Jakarta Convention Center , Jumat ( 22/4 ) . Koizumi mengatakan , pada masa silam Jepang terlalu ambisius untuk berkuasa . Ternyata , ambisi itu justru menimbulkan kerusakan dan penderitaan luar biasa bagi penduduk di sejumlah negara , terutama di Asia . \" Untuk itu Jepang minta maaf , \" kata Koizumi . Selain meminta maaf , Koizumi berharap KAA dapat membantu mempererat persahabatan antara Jepang dan negara-negara di Asia serta Afrika . Jepang , tambah Koizumi , siap memberikan sumbangan dan bantuan bagi negara-negara Asia dan Afrika yang membutuhkan . Pernyataan Koizumi membuat heran para pengamat . Menurut mereka , ini kejadian langka . Mereka menduga , pernyataan Koizumi terkait dengan makin panasnya hubungan Jepang dan Cina akhir-akhir ini . Jepang ingin meredakan ketegangan melalui negara-negara peserta KAA . Hubungan Cina-Jepang memang terus memburuk sejak Jepang menyetujui penerbitan buku pelajaran sejarah nasional Jepang , awal April 2005 . Apalagi buku itu sama sekali tak menceritakan kekejaman tentara Jepang selama masa PD II di Asia dan Pasifik . Istilah Negeri Samurai saat itu adalah Dai Toa Senso atau Perang Asia Timur Raya [ baca : Cina Menolak Meminta Maaf kepada Jepang ] . ( ICH/Tim Liputan 6 SCTV ) .\n"
     ]
    }
   ],
   "source": [
    "# Define sample preprocessed article \n",
    "ARTICLE_TO_SUMMARIZE = \" \".join(sum(data_sample['clean_article'], []))\n",
    "print(ARTICLE_TO_SUMMARIZE)"
   ]
  },
  {
   "cell_type": "code",
   "execution_count": 28,
   "id": "85e4bd27",
   "metadata": {},
   "outputs": [],
   "source": [
    "# Encode sentence using pretrained model\n",
    "input_ids = tokenizer.encode(ARTICLE_TO_SUMMARIZE, return_tensors = \"pt\")\n"
   ]
  },
  {
   "cell_type": "code",
   "execution_count": 30,
   "id": "88cecd4c",
   "metadata": {},
   "outputs": [],
   "source": [
    "summary_ids = model.generate(\n",
    "    input_ids, min_length = 25, max_length = 75, \n",
    "    num_beams = 10, Arepetition_penalty = 2.5, \n",
    "    length_penalty = 1.0, early_stopping = True, \n",
    "    no_repeat_ngram_size = 3, use_cache = True, \n",
    "    temperature = 0.9, top_k = 10, top_p = 0.9\n",
    ")"
   ]
  },
  {
   "cell_type": "code",
   "execution_count": 31,
   "id": "9adf3fc7",
   "metadata": {},
   "outputs": [
    {
     "name": "stdout",
     "output_type": "stream",
     "text": [
      "Perdana Menteri Jepang Junichiro Koizumi meminta maaf atas kekejaman tentara Jepang pada masa Perang Dunia II di Asia. Pernyataan itu membuat heran para pengamat.\n"
     ]
    }
   ],
   "source": [
    "summary_text = tokenizer.decode(summary_ids[0], skip_special_tokens=True)\n",
    "print(summary_text)\n"
   ]
  },
  {
   "cell_type": "code",
   "execution_count": 51,
   "id": "2b632fcf",
   "metadata": {},
   "outputs": [
    {
     "data": {
      "text/plain": [
       "[{'rouge-1': {'r': 1.0, 'p': 0.1513157894736842, 'f': 0.2628571405740408},\n",
       "  'rouge-2': {'r': 0.8695652173913043,\n",
       "   'p': 0.09389671361502347,\n",
       "   'f': 0.16949152366453607},\n",
       "  'rouge-l': {'r': 1.0, 'p': 0.1513157894736842, 'f': 0.2628571405740408}}]"
      ]
     },
     "execution_count": 51,
     "metadata": {},
     "output_type": "execute_result"
    }
   ],
   "source": [
    "rouge_scoring.get_scores(\n",
    "    ARTICLE_TO_SUMMARIZE, summary_text\n",
    ")"
   ]
  }
 ],
 "metadata": {
  "kernelspec": {
   "display_name": "Python 3 (ipykernel)",
   "language": "python",
   "name": "python3"
  },
  "language_info": {
   "codemirror_mode": {
    "name": "ipython",
    "version": 3
   },
   "file_extension": ".py",
   "mimetype": "text/x-python",
   "name": "python",
   "nbconvert_exporter": "python",
   "pygments_lexer": "ipython3",
   "version": "3.10.9"
  }
 },
 "nbformat": 4,
 "nbformat_minor": 5
}
